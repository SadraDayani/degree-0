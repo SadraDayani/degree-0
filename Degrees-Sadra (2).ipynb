{
 "cells": [
  {
   "cell_type": "code",
   "execution_count": 14,
   "id": "7964fc5d-fc6d-4749-a619-b456de95cd4d",
   "metadata": {},
   "outputs": [],
   "source": [
    "def shortest_path(source, target):\n",
    "    \"\"\"\n",
    "    Returns the shortest list of (movie_id, person_id) pairs\n",
    "    that connect the source to the target.\n",
    "    If no possible path, returns None.\n",
    "    \"\"\"\n",
    "    from util import Node, QueueFrontier\n",
    "\n",
    "    # Initialize the frontier with the starting position\n",
    "    start = Node(state=source, parent=None, action=None)\n",
    "    frontier = QueueFrontier()\n",
    "    frontier.add(start)\n",
    "\n",
    "    # Set of explored person_ids\n",
    "    explored = set()\n",
    "\n",
    "    while not frontier.empty():\n",
    "        node = frontier.remove()\n",
    "\n",
    "        # If the node is the goal, reconstruct the path\n",
    "        if node.state == target:\n",
    "            path = []\n",
    "            while node.parent is not None:\n",
    "                path.append((node.action, node.state))\n",
    "                node = node.parent\n",
    "            path.reverse()\n",
    "            return path\n",
    "\n",
    "        # Mark the node as explored\n",
    "        explored.add(node.state)\n",
    "\n",
    "        # Add neighbors to the frontier\n",
    "        for movie_id, person_id in neighbors_for_person(node.state):\n",
    "            if not frontier.contains_state(person_id) and person_id not in explored:\n",
    "                child = Node(state=person_id, parent=node, action=movie_id)\n",
    "                \n",
    "                # If child is the goal, return the path immediately\n",
    "                if child.state == target:\n",
    "                    path = []\n",
    "                    while child.parent is not None:\n",
    "                        path.append((child.action, child.state))\n",
    "                        child = child.parent\n",
    "                    path.reverse()\n",
    "                    return path\n",
    "\n",
    "                frontier.add(child)\n",
    "\n",
    "    # No path found\n",
    "    return None"
   ]
  },
  {
   "cell_type": "code",
   "execution_count": 22,
   "id": "1efeed5d-9483-42eb-a736-1e1b481627b3",
   "metadata": {},
   "outputs": [],
   "source": [
    "directory = \"small\"  # or \"large\"\n",
    "load_data(directory)"
   ]
  },
  {
   "cell_type": "code",
   "execution_count": 23,
   "id": "65d1d02d-3099-49e2-aaa9-1a72257d5503",
   "metadata": {},
   "outputs": [
    {
     "name": "stdout",
     "output_type": "stream",
     "text": [
      "Not connected.\n"
     ]
    }
   ],
   "source": [
    "source = person_id_for_name(\"Emma Watson\")\n",
    "target = person_id_for_name(\"Tom Hanks\")\n",
    "\n",
    "if source is None or target is None:\n",
    "    print(\"One of the persons was not found.\")\n",
    "else:\n",
    "    path = shortest_path(source, target)\n",
    "    if path is None:\n",
    "        print(\"Not connected.\")\n",
    "    else:\n",
    "        print(f\"{len(path)} degrees of separation.\")\n",
    "        path = [(None, source)] + path\n",
    "        for i in range(len(path) - 1):\n",
    "            person1 = people[path[i][1]][\"name\"]\n",
    "            person2 = people[path[i + 1][1]][\"name\"]\n",
    "            movie = movies[path[i + 1][0]][\"title\"]\n",
    "            print(f\"{i + 1}: {person1} and {person2} starred in {movie}\")\n"
   ]
  },
  {
   "cell_type": "code",
   "execution_count": null,
   "id": "0309343c-1235-4b6a-bb48-3b8d450cc8c1",
   "metadata": {},
   "outputs": [],
   "source": []
  }
 ],
 "metadata": {
  "kernelspec": {
   "display_name": "Python 3 (ipykernel)",
   "language": "python",
   "name": "python3"
  },
  "language_info": {
   "codemirror_mode": {
    "name": "ipython",
    "version": 3
   },
   "file_extension": ".py",
   "mimetype": "text/x-python",
   "name": "python",
   "nbconvert_exporter": "python",
   "pygments_lexer": "ipython3",
   "version": "3.9.12"
  }
 },
 "nbformat": 4,
 "nbformat_minor": 5
}
